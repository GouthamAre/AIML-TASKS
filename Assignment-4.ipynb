{
 "cells": [
  {
   "cell_type": "code",
   "execution_count": 4,
   "id": "ee3f8816-8a6e-4030-8783-1fbbf0fe5c51",
   "metadata": {},
   "outputs": [
    {
     "name": "stdout",
     "output_type": "stream",
     "text": [
      "The sum of all even numbers between 1 and 50 is: 650\n"
     ]
    }
   ],
   "source": [
    "n = 50\n",
    "\n",
    "even = 0\n",
    "\n",
    "for number in range(1, n + 1):\n",
    "    if number % 2 == 0:  \n",
    "        even += number\n",
    "\n",
    "print(f\"The sum of all even numbers between 1 and {n} is: {even}\")\n"
   ]
  },
  {
   "cell_type": "code",
   "execution_count": null,
   "id": "c5f48176-8c50-4b2a-ab82-ab8256f429a3",
   "metadata": {},
   "outputs": [],
   "source": []
  },
  {
   "cell_type": "code",
   "execution_count": null,
   "id": "1ec1c94c-58ed-4f4c-8ffa-172328433c93",
   "metadata": {},
   "outputs": [],
   "source": []
  }
 ],
 "metadata": {
  "kernelspec": {
   "display_name": "Python 3 (ipykernel)",
   "language": "python",
   "name": "python3"
  },
  "language_info": {
   "codemirror_mode": {
    "name": "ipython",
    "version": 3
   },
   "file_extension": ".py",
   "mimetype": "text/x-python",
   "name": "python",
   "nbconvert_exporter": "python",
   "pygments_lexer": "ipython3",
   "version": "3.12.7"
  }
 },
 "nbformat": 4,
 "nbformat_minor": 5
}
