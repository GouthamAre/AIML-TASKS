{
 "cells": [
  {
   "cell_type": "code",
   "execution_count": 10,
   "id": "2d4ea866-d867-4165-b19e-1b9b8468f06f",
   "metadata": {},
   "outputs": [
    {
     "name": "stdout",
     "output_type": "stream",
     "text": [
      "Processed file saved at: D:/MRUH/TRAINING/Processed_Day_8_sales_data.csv\n"
     ]
    }
   ],
   "source": [
    "import pandas as pd\n",
    "\n",
    "#give your file path\n",
    "file_path = r\"D:/MRUH/TRAINING/Day_8_sales_data.csv\"\n",
    "df = pd.read_csv(file_path)\n",
    "\n",
    "\n",
    "sales_above_1000 = df[df['Sales'] > 1000]\n",
    "\n",
    "\n",
    "sales_in_east = df[df['Region'] == \"East\"]\n",
    "\n",
    "\n",
    "df['Profit_Per_Unit'] = df['Profit'] / df['Quantity']\n",
    "\n",
    "df['High_Sales'] = df['Sales'].apply(lambda x: \"Yes\" if x > 1000 else \"No\")\n",
    "\n",
    "\n",
    "output_path = r\"D:/MRUH/TRAINING/Processed_Day_8_sales_data.csv\"\n",
    "df.to_csv(output_path, index=False)\n",
    "\n",
    "print(\"Processed file saved at:\", output_path)\n"
   ]
  },
  {
   "cell_type": "code",
   "execution_count": null,
   "id": "4d4e2345-7a31-4c73-beb3-66465b2b4ef8",
   "metadata": {},
   "outputs": [],
   "source": []
  }
 ],
 "metadata": {
  "kernelspec": {
   "display_name": "Python 3 (ipykernel)",
   "language": "python",
   "name": "python3"
  },
  "language_info": {
   "codemirror_mode": {
    "name": "ipython",
    "version": 3
   },
   "file_extension": ".py",
   "mimetype": "text/x-python",
   "name": "python",
   "nbconvert_exporter": "python",
   "pygments_lexer": "ipython3",
   "version": "3.12.7"
  }
 },
 "nbformat": 4,
 "nbformat_minor": 5
}
