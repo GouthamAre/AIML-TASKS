{
 "cells": [
  {
   "cell_type": "code",
   "execution_count": 1,
   "id": "3a10119c-85d2-4502-98d7-8a3b31986830",
   "metadata": {},
   "outputs": [
    {
     "name": "stdout",
     "output_type": "stream",
     "text": [
      "even\n"
     ]
    }
   ],
   "source": [
    "num = 6\n",
    "if num % 2 == 0:\n",
    "    print(\"even\")\n",
    "else:\n",
    "    print(\"odd\")"
   ]
  },
  {
   "cell_type": "code",
   "execution_count": 9,
   "id": "7ddc5afe-c6b7-442d-9e42-699bc4e13d57",
   "metadata": {},
   "outputs": [
    {
     "name": "stdout",
     "output_type": "stream",
     "text": [
      "even\n"
     ]
    }
   ],
   "source": [
    "num = 6\n",
    "print(\"even\") if num % 2 ==0 else print(\"odd\")"
   ]
  },
  {
   "cell_type": "code",
   "execution_count": 10,
   "id": "12cb7e7a-70d7-415a-a0a4-fc93699ead13",
   "metadata": {},
   "outputs": [
    {
     "name": "stdout",
     "output_type": "stream",
     "text": [
      "Postive\n"
     ]
    }
   ],
   "source": [
    "x = 10\n",
    "result = \"Postive\" if x > 0 else \"Negative\"\n",
    "print(result)"
   ]
  },
  {
   "cell_type": "code",
   "execution_count": 11,
   "id": "55c35db5-df29-4441-8e5a-77bac6fee67c",
   "metadata": {},
   "outputs": [
    {
     "name": "stdout",
     "output_type": "stream",
     "text": [
      "Adult\n"
     ]
    }
   ],
   "source": [
    "age = 18\n",
    "category = \"Adult\" if age >= 18 else \"Minor\"\n",
    "print(category)"
   ]
  },
  {
   "cell_type": "code",
   "execution_count": 15,
   "id": "1e88ba32-d91b-47d9-8a2a-7ae97a2ec11e",
   "metadata": {},
   "outputs": [
    {
     "name": "stdout",
     "output_type": "stream",
     "text": [
      "Zero\n"
     ]
    }
   ],
   "source": [
    "num = 0\n",
    "result = \"positive\" if num > 0 else \"Negative\" if num < 0 else \"Zero\"\n",
    "print(result)"
   ]
  },
  {
   "cell_type": "code",
   "execution_count": 35,
   "id": "7f488b1c-f25e-48dc-bfda-0d6cca8f3adf",
   "metadata": {},
   "outputs": [
    {
     "data": {
      "text/plain": [
       "[2, 18, 4, 20, 112, 178]"
      ]
     },
     "execution_count": 35,
     "metadata": {},
     "output_type": "execute_result"
    }
   ],
   "source": [
    "#Short way \n",
    "L = [1,9,2,10,56,89]\n",
    "[2*x for x in L]"
   ]
  },
  {
   "cell_type": "code",
   "execution_count": 33,
   "id": "9bc1f64e-f496-4afe-8e5b-6235636ce373",
   "metadata": {},
   "outputs": [
    {
     "name": "stdout",
     "output_type": "stream",
     "text": [
      "2\n",
      "4\n",
      "6\n",
      "8\n"
     ]
    }
   ],
   "source": [
    "L = [1,2,3,4]\n",
    "for x in L:\n",
    "    print(2*x)"
   ]
  },
  {
   "cell_type": "code",
   "execution_count": 39,
   "id": "22c180c5-72cd-40b2-81b6-824022d4e27a",
   "metadata": {},
   "outputs": [
    {
     "data": {
      "text/plain": [
       "[2, 10, 56]"
      ]
     },
     "execution_count": 39,
     "metadata": {},
     "output_type": "execute_result"
    }
   ],
   "source": [
    "#Even numbers\n",
    "L = [1,9,2,10,56,89]\n",
    "[x for x in L if x%2 == 0]"
   ]
  },
  {
   "cell_type": "code",
   "execution_count": 40,
   "id": "2d483046-2007-4fde-b601-a5e4df914b86",
   "metadata": {},
   "outputs": [
    {
     "data": {
      "text/plain": [
       "[1, 9, 89]"
      ]
     },
     "execution_count": 40,
     "metadata": {},
     "output_type": "execute_result"
    }
   ],
   "source": [
    "#odd numbers\n",
    "L = [1,9,2,10,56,89]\n",
    "[x for x in L if x%2 != 0]"
   ]
  },
  {
   "cell_type": "code",
   "execution_count": 41,
   "id": "81d9143d-6c6b-4424-94f3-af4ad3791a62",
   "metadata": {},
   "outputs": [],
   "source": [
    "#COMPREHENSION"
   ]
  },
  {
   "cell_type": "code",
   "execution_count": 45,
   "id": "b862fe6b-d3b7-46be-8fb7-fba6abd18dd3",
   "metadata": {},
   "outputs": [
    {
     "data": {
      "text/plain": [
       "{'Ram': [70, 78, 65, 78], 'Yesu': [59, 45, 69, 98], 'Mohd': [79, 56, 88, 91]}"
      ]
     },
     "execution_count": 45,
     "metadata": {},
     "output_type": "execute_result"
    }
   ],
   "source": [
    "d1 = {'Ram':[70,78,65,78], 'Yesu':[59,45,69,98], 'Mohd':[79,56,88,91]}\n",
    "d1"
   ]
  },
  {
   "cell_type": "code",
   "execution_count": 46,
   "id": "46ed8572-7110-4d30-8111-57a79cab88f3",
   "metadata": {},
   "outputs": [
    {
     "data": {
      "text/plain": [
       "{'Ram': 72.75, 'Yesu': 67.75, 'Mohd': 78.5}"
      ]
     },
     "execution_count": 46,
     "metadata": {},
     "output_type": "execute_result"
    }
   ],
   "source": [
    "{k:sum(v)/len(v) for k,v in d1.items()}"
   ]
  },
  {
   "cell_type": "code",
   "execution_count": 47,
   "id": "5e20aa10-6098-4c45-8db7-82cf3cb3b389",
   "metadata": {},
   "outputs": [],
   "source": [
    "#USER DEFINED FUNCTionS"
   ]
  },
  {
   "cell_type": "code",
   "execution_count": 48,
   "id": "c66d10c1-aa6e-4fd5-8a75-31f0cc8df57c",
   "metadata": {},
   "outputs": [],
   "source": [
    "def mean_value(given_list):\n",
    "    total = sum(given_list)\n",
    "    avg = total/len(given_list)\n",
    "    return avg"
   ]
  },
  {
   "cell_type": "code",
   "execution_count": 49,
   "id": "dde47a31-1aad-48cf-b9d5-740427069783",
   "metadata": {},
   "outputs": [
    {
     "data": {
      "text/plain": [
       "4.5"
      ]
     },
     "execution_count": 49,
     "metadata": {},
     "output_type": "execute_result"
    }
   ],
   "source": [
    "L = [1,2,3,4,5,6,7,8]\n",
    "mean_value(L)"
   ]
  },
  {
   "cell_type": "code",
   "execution_count": 53,
   "id": "6b7e7745-68cc-430e-aa4a-8861bc5fc887",
   "metadata": {},
   "outputs": [],
   "source": [
    "def greet(wishes):\n",
    "    print('''Good MOrning!''',name)\n",
    "    return"
   ]
  },
  {
   "cell_type": "code",
   "execution_count": 54,
   "id": "bcd22b07-cd00-458c-bff5-9f991aadcf98",
   "metadata": {},
   "outputs": [
    {
     "name": "stdout",
     "output_type": "stream",
     "text": [
      "Good MOrning! Goutham\n"
     ]
    }
   ],
   "source": [
    "name = \"Goutham\"\n",
    "greet(name)"
   ]
  },
  {
   "cell_type": "code",
   "execution_count": null,
   "id": "8b1f9f36-8aaf-4523-b4a3-cf31c050d738",
   "metadata": {},
   "outputs": [],
   "source": []
  }
 ],
 "metadata": {
  "kernelspec": {
   "display_name": "Python 3 (ipykernel)",
   "language": "python",
   "name": "python3"
  },
  "language_info": {
   "codemirror_mode": {
    "name": "ipython",
    "version": 3
   },
   "file_extension": ".py",
   "mimetype": "text/x-python",
   "name": "python",
   "nbconvert_exporter": "python",
   "pygments_lexer": "ipython3",
   "version": "3.12.7"
  }
 },
 "nbformat": 4,
 "nbformat_minor": 5
}
